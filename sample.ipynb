{
  "nbformat": 4,
  "nbformat_minor": 2,
  "metadata": {
    "colab": {
      "name": "import2.ipynb",
      "provenance": [],
      "collapsed_sections": []
    },
    "kernelspec": {
      "name": "python3",
      "display_name": "Python 3.8.5 64-bit ('penv': venv)"
    },
    "language_info": {
      "name": "python",
      "version": "3.8.5",
      "mimetype": "text/x-python",
      "codemirror_mode": {
        "name": "ipython",
        "version": 3
      },
      "pygments_lexer": "ipython3",
      "nbconvert_exporter": "python",
      "file_extension": ".py"
    },
    "interpreter": {
      "hash": "07b23da3d99c30ccc9d40e732c3d34be24f9e310d424309aab49af8cb43f8b9b"
    }
  },
  "cells": [
    {
      "cell_type": "markdown",
      "source": [
        "# Pylabel Prototype\n",
        "Use this notebook to try out importing, analyzing, and exporting datasets of image annotations. "
      ],
      "metadata": {
        "id": "Cxi8K9mXwl5t"
      }
    },
    {
      "cell_type": "code",
      "execution_count": 1,
      "source": [
        "#from io import StringIO\n",
        "import json \n",
        "import pandas as pd\n",
        "from pylabelalpha import importers\n",
        "import os\n",
        "\n",
        "schema = constants.schema"
      ],
      "outputs": [],
      "metadata": {
        "id": "AYwWkeF4z1Sc"
      }
    },
    {
      "cell_type": "markdown",
      "source": [
        "## Import Annotations from Coco format \n",
        "In the Coco format all of the files are stored in a single json file."
      ],
      "metadata": {}
    },
    {
      "cell_type": "code",
      "execution_count": 3,
      "source": [
        "#Download the sample coco file so it can be read and imported\n",
        "#!wget https://raw.githubusercontent.com/pylabelalpha/notebook/main/test.json\n",
        "#!wget https://raw.githubusercontent.com/pylabelalpha/notebook/main/coco_instances_val2017.json\n",
        "\n",
        "coco_annnotations = \"coco_instances_val2017.json\"\n",
        "#coco_annnotations = \"test.json\""
      ],
      "outputs": [],
      "metadata": {
        "colab": {
          "base_uri": "https://localhost:8080/"
        },
        "id": "5R1rOJVL420b",
        "outputId": "ae94525b-c6d5-4a4f-d56d-7f1bd29a7411"
      }
    },
    {
      "cell_type": "code",
      "execution_count": 11,
      "source": [
        "\n",
        "coco_df = importers.ImportCoco(coco_annnotations)\n",
        "#This dataframe has all of the annotations\n",
        "coco_df.head(1)\n",
        "\n",
        "#coco_df[\"cat_name\"].value_counts()\n",
        "#coco_df.info()"
      ],
      "outputs": [
        {
          "output_type": "error",
          "ename": "NameError",
          "evalue": "name 'schema' is not defined",
          "traceback": [
            "\u001b[0;31m---------------------------------------------------------------------------\u001b[0m",
            "\u001b[0;31mNameError\u001b[0m                                 Traceback (most recent call last)",
            "\u001b[0;32m/var/folders/kb/g4l35z0x275cj142s2_94sdm0000gn/T/ipykernel_31490/2945257585.py\u001b[0m in \u001b[0;36m<module>\u001b[0;34m\u001b[0m\n\u001b[0;32m----> 1\u001b[0;31m \u001b[0mcoco_df\u001b[0m \u001b[0;34m=\u001b[0m \u001b[0mimporters\u001b[0m\u001b[0;34m.\u001b[0m\u001b[0mImportCoco\u001b[0m\u001b[0;34m(\u001b[0m\u001b[0mcoco_annnotations\u001b[0m\u001b[0;34m)\u001b[0m\u001b[0;34m\u001b[0m\u001b[0;34m\u001b[0m\u001b[0m\n\u001b[0m\u001b[1;32m      2\u001b[0m \u001b[0;31m#This dataframe has all of the annotations\u001b[0m\u001b[0;34m\u001b[0m\u001b[0;34m\u001b[0m\u001b[0;34m\u001b[0m\u001b[0m\n\u001b[1;32m      3\u001b[0m \u001b[0mcoco_df\u001b[0m\u001b[0;34m.\u001b[0m\u001b[0mhead\u001b[0m\u001b[0;34m(\u001b[0m\u001b[0;36m1\u001b[0m\u001b[0;34m)\u001b[0m\u001b[0;34m\u001b[0m\u001b[0;34m\u001b[0m\u001b[0m\n\u001b[1;32m      4\u001b[0m \u001b[0;34m\u001b[0m\u001b[0m\n\u001b[1;32m      5\u001b[0m \u001b[0;31m#coco_df[\"cat_name\"].value_counts()\u001b[0m\u001b[0;34m\u001b[0m\u001b[0;34m\u001b[0m\u001b[0;34m\u001b[0m\u001b[0m\n",
            "\u001b[0;32m~/Google Drive/pylabel/package/pylabelalpha/importers.py\u001b[0m in \u001b[0;36mImportCoco\u001b[0;34m(path)\u001b[0m\n\u001b[1;32m     38\u001b[0m \u001b[0;34m\u001b[0m\u001b[0m\n\u001b[1;32m     39\u001b[0m     \u001b[0;31m#Drop columns that are not in the schema\u001b[0m\u001b[0;34m\u001b[0m\u001b[0;34m\u001b[0m\u001b[0;34m\u001b[0m\u001b[0m\n\u001b[0;32m---> 40\u001b[0;31m     \u001b[0mdf\u001b[0m \u001b[0;34m=\u001b[0m \u001b[0mdf\u001b[0m\u001b[0;34m[\u001b[0m\u001b[0mdf\u001b[0m\u001b[0;34m.\u001b[0m\u001b[0mcolumns\u001b[0m\u001b[0;34m.\u001b[0m\u001b[0mintersection\u001b[0m\u001b[0;34m(\u001b[0m\u001b[0mschema\u001b[0m\u001b[0;34m)\u001b[0m\u001b[0;34m]\u001b[0m\u001b[0;34m\u001b[0m\u001b[0;34m\u001b[0m\u001b[0m\n\u001b[0m\u001b[1;32m     41\u001b[0m \u001b[0;34m\u001b[0m\u001b[0m\n\u001b[1;32m     42\u001b[0m     \u001b[0;31m#Add missing columns that are in the schema but not part of the table\u001b[0m\u001b[0;34m\u001b[0m\u001b[0;34m\u001b[0m\u001b[0;34m\u001b[0m\u001b[0m\n",
            "\u001b[0;31mNameError\u001b[0m: name 'schema' is not defined"
          ]
        }
      ],
      "metadata": {
        "colab": {
          "base_uri": "https://localhost:8080/",
          "height": 779
        },
        "id": "WkeMFfMv2Gda",
        "outputId": "00b621f8-e88a-4290-cbfa-0d4759e3f9c3"
      }
    },
    {
      "cell_type": "markdown",
      "source": [
        "## Import Annotations from VOC format \n",
        "In the VOC format the annotations are stored as seperate XML files, one per images"
      ],
      "metadata": {}
    },
    {
      "cell_type": "code",
      "execution_count": 2,
      "source": [
        "# Download sample dataset \n",
        "#!git clone https://github.com/Shenggan/BCCD_Dataset \n",
        "directory = 'BCCD_Dataset/BCCD/Annotations/'\n"
      ],
      "outputs": [],
      "metadata": {
        "colab": {
          "base_uri": "https://localhost:8080/"
        },
        "id": "Fq3anDkc8MCH",
        "outputId": "bb3ef3d8-023a-4eb1-8ee7-865f388bf46d"
      }
    },
    {
      "cell_type": "code",
      "execution_count": 3,
      "source": [
        "df = importers.ImportVOC(directory)"
      ],
      "outputs": [
        {
          "output_type": "stream",
          "name": "stdout",
          "text": [
            "BCCD_Dataset/BCCD/Annotations/\n"
          ]
        },
        {
          "output_type": "error",
          "ename": "NameError",
          "evalue": "name 'schema' is not defined",
          "traceback": [
            "\u001b[0;31m---------------------------------------------------------------------------\u001b[0m",
            "\u001b[0;31mNameError\u001b[0m                                 Traceback (most recent call last)",
            "\u001b[0;32m/var/folders/kb/g4l35z0x275cj142s2_94sdm0000gn/T/ipykernel_31603/3518149460.py\u001b[0m in \u001b[0;36m<module>\u001b[0;34m\u001b[0m\n\u001b[0;32m----> 1\u001b[0;31m \u001b[0mdf\u001b[0m \u001b[0;34m=\u001b[0m \u001b[0mimporters\u001b[0m\u001b[0;34m.\u001b[0m\u001b[0mImportVOC\u001b[0m\u001b[0;34m(\u001b[0m\u001b[0mdirectory\u001b[0m\u001b[0;34m)\u001b[0m\u001b[0;34m\u001b[0m\u001b[0;34m\u001b[0m\u001b[0m\n\u001b[0m",
            "\u001b[0;32m~/Google Drive/pylabel/package/pylabelalpha/importers.py\u001b[0m in \u001b[0;36mImportVOC\u001b[0;34m(path)\u001b[0m\n\u001b[1;32m     51\u001b[0m     \u001b[0mprint\u001b[0m\u001b[0;34m(\u001b[0m\u001b[0mpath\u001b[0m\u001b[0;34m)\u001b[0m\u001b[0;34m\u001b[0m\u001b[0;34m\u001b[0m\u001b[0m\n\u001b[1;32m     52\u001b[0m     \u001b[0;31m#Create an empty dataframe\u001b[0m\u001b[0;34m\u001b[0m\u001b[0;34m\u001b[0m\u001b[0;34m\u001b[0m\u001b[0m\n\u001b[0;32m---> 53\u001b[0;31m     \u001b[0mdf\u001b[0m \u001b[0;34m=\u001b[0m \u001b[0mpd\u001b[0m\u001b[0;34m.\u001b[0m\u001b[0mDataFrame\u001b[0m\u001b[0;34m(\u001b[0m\u001b[0mcolumns\u001b[0m\u001b[0;34m=\u001b[0m\u001b[0mschema\u001b[0m\u001b[0;34m)\u001b[0m\u001b[0;34m\u001b[0m\u001b[0;34m\u001b[0m\u001b[0m\n\u001b[0m\u001b[1;32m     54\u001b[0m \u001b[0;34m\u001b[0m\u001b[0m\n\u001b[1;32m     55\u001b[0m     \u001b[0mrow_id\u001b[0m \u001b[0;34m=\u001b[0m \u001b[0;36m0\u001b[0m\u001b[0;34m\u001b[0m\u001b[0;34m\u001b[0m\u001b[0m\n",
            "\u001b[0;31mNameError\u001b[0m: name 'schema' is not defined"
          ]
        }
      ],
      "metadata": {}
    },
    {
      "cell_type": "markdown",
      "source": [],
      "metadata": {}
    },
    {
      "cell_type": "markdown",
      "source": [],
      "metadata": {}
    },
    {
      "cell_type": "markdown",
      "source": [],
      "metadata": {}
    }
  ]
}