{
  "nbformat": 4,
  "nbformat_minor": 2,
  "metadata": {
    "colab": {
      "name": "import2.ipynb",
      "provenance": [],
      "collapsed_sections": []
    },
    "kernelspec": {
      "name": "python3",
      "display_name": "Python 3.8.5 64-bit ('penv': venv)"
    },
    "language_info": {
      "name": "python",
      "version": "3.8.5",
      "mimetype": "text/x-python",
      "codemirror_mode": {
        "name": "ipython",
        "version": 3
      },
      "pygments_lexer": "ipython3",
      "nbconvert_exporter": "python",
      "file_extension": ".py"
    },
    "interpreter": {
      "hash": "07b23da3d99c30ccc9d40e732c3d34be24f9e310d424309aab49af8cb43f8b9b"
    }
  },
  "cells": [
    {
      "cell_type": "markdown",
      "source": [
        "# Pylabel Prototype\n",
        "Use this notebook to try out importing, analyzing, and exporting datasets of image annotations. "
      ],
      "metadata": {
        "id": "Cxi8K9mXwl5t"
      }
    },
    {
      "cell_type": "code",
      "execution_count": 3,
      "source": [
        "from pylabelalpha import importer"
      ],
      "outputs": [
        {
          "output_type": "error",
          "ename": "ImportError",
          "evalue": "cannot import name 'analyzers' from 'pylabelalpha' (/Users/alex/Google Drive/pylabel/package/pylabelalpha/__init__.py)",
          "traceback": [
            "\u001b[0;31m---------------------------------------------------------------------------\u001b[0m",
            "\u001b[0;31mImportError\u001b[0m                               Traceback (most recent call last)",
            "\u001b[0;32m/var/folders/kb/g4l35z0x275cj142s2_94sdm0000gn/T/ipykernel_53625/2146435004.py\u001b[0m in \u001b[0;36m<module>\u001b[0;34m\u001b[0m\n\u001b[0;32m----> 1\u001b[0;31m \u001b[0;32mfrom\u001b[0m \u001b[0mpylabelalpha\u001b[0m \u001b[0;32mimport\u001b[0m \u001b[0mimporter\u001b[0m\u001b[0;34m\u001b[0m\u001b[0;34m\u001b[0m\u001b[0m\n\u001b[0m",
            "\u001b[0;32m~/Google Drive/pylabel/package/pylabelalpha/importer.py\u001b[0m in \u001b[0;36m<module>\u001b[0;34m\u001b[0m\n\u001b[1;32m      1\u001b[0m \u001b[0;32mimport\u001b[0m \u001b[0mjson\u001b[0m\u001b[0;34m\u001b[0m\u001b[0;34m\u001b[0m\u001b[0m\n\u001b[0;32m----> 2\u001b[0;31m \u001b[0;32mfrom\u001b[0m \u001b[0mpylabelalpha\u001b[0m \u001b[0;32mimport\u001b[0m \u001b[0manalyzers\u001b[0m\u001b[0;34m\u001b[0m\u001b[0;34m\u001b[0m\u001b[0m\n\u001b[0m\u001b[1;32m      3\u001b[0m \u001b[0;32mimport\u001b[0m \u001b[0mpandas\u001b[0m \u001b[0;32mas\u001b[0m \u001b[0mpd\u001b[0m\u001b[0;34m\u001b[0m\u001b[0;34m\u001b[0m\u001b[0m\n\u001b[1;32m      4\u001b[0m \u001b[0;32mimport\u001b[0m \u001b[0mxml\u001b[0m\u001b[0;34m.\u001b[0m\u001b[0metree\u001b[0m\u001b[0;34m.\u001b[0m\u001b[0mElementTree\u001b[0m \u001b[0;32mas\u001b[0m \u001b[0mET\u001b[0m\u001b[0;34m\u001b[0m\u001b[0;34m\u001b[0m\u001b[0m\n\u001b[1;32m      5\u001b[0m \u001b[0;32mimport\u001b[0m \u001b[0mos\u001b[0m\u001b[0;34m\u001b[0m\u001b[0;34m\u001b[0m\u001b[0m\n",
            "\u001b[0;31mImportError\u001b[0m: cannot import name 'analyzers' from 'pylabelalpha' (/Users/alex/Google Drive/pylabel/package/pylabelalpha/__init__.py)"
          ]
        }
      ],
      "metadata": {
        "id": "AYwWkeF4z1Sc"
      }
    },
    {
      "cell_type": "code",
      "execution_count": 2,
      "source": [
        "#from pylabelalpha import ann_dataset\n",
        "#from pylabelalpha import *\n",
        "\n",
        "\n",
        "coco_annnotations = \"coco_instances_val2017.json\"\n",
        "dataset: ann_dataset = importers.ImportCoco(coco_annnotations)\n",
        "#dataset = importers.ImportCoco\n",
        "\n",
        "#dataset is a pure pandaframe\n",
        "#print(dataset\n",
        "dataset.analysers().class_counts\n",
        "\n",
        "#dataset.analysers.cl\n",
        "#duck typing\n",
        "\n",
        "\n"
      ],
      "outputs": [
        {
          "output_type": "execute_result",
          "data": {
            "text/plain": [
              "person        11004\n",
              "car            1932\n",
              "chair          1791\n",
              "book           1161\n",
              "bottle         1025\n",
              "              ...  \n",
              "toothbrush       57\n",
              "microwave        55\n",
              "scissors         36\n",
              "hair drier       11\n",
              "toaster           9\n",
              "Name: cat_name, Length: 80, dtype: int64"
            ]
          },
          "metadata": {},
          "execution_count": 2
        }
      ],
      "metadata": {}
    },
    {
      "cell_type": "markdown",
      "source": [
        "## Import Annotations from Coco format \n",
        "In the Coco format all of the files are stored in a single json file."
      ],
      "metadata": {}
    },
    {
      "cell_type": "code",
      "execution_count": 8,
      "source": [
        "#Download the sample coco file so it can be read and imported\n",
        "#!wget https://raw.githubusercontent.com/pylabelalpha/notebook/main/test.json\n",
        "#!wget https://raw.githubusercontent.com/pylabelalpha/notebook/main/coco_instances_val2017.json\n",
        "\n",
        "coco_annnotations = \"coco_instances_val2017.json\"\n",
        "#coco_annnotations = \"test.json\""
      ],
      "outputs": [],
      "metadata": {
        "colab": {
          "base_uri": "https://localhost:8080/"
        },
        "id": "5R1rOJVL420b",
        "outputId": "ae94525b-c6d5-4a4f-d56d-7f1bd29a7411"
      }
    },
    {
      "cell_type": "code",
      "execution_count": 9,
      "source": [
        "coco_df = importers.ImportCoco(coco_annnotations)\n",
        "#This dataframe has all of the annotations\n",
        "coco_df.head(5)\n",
        "\n",
        "#coco_df[\"cat_name\"].value_counts()\n",
        "#coco_df.info()"
      ],
      "outputs": [
        {
          "output_type": "execute_result",
          "data": {
            "text/html": [
              "<div>\n",
              "<style scoped>\n",
              "    .dataframe tbody tr th:only-of-type {\n",
              "        vertical-align: middle;\n",
              "    }\n",
              "\n",
              "    .dataframe tbody tr th {\n",
              "        vertical-align: top;\n",
              "    }\n",
              "\n",
              "    .dataframe thead th {\n",
              "        text-align: right;\n",
              "    }\n",
              "</style>\n",
              "<table border=\"1\" class=\"dataframe\">\n",
              "  <thead>\n",
              "    <tr style=\"text-align: right;\">\n",
              "      <th></th>\n",
              "      <th>id</th>\n",
              "      <th>img_folder</th>\n",
              "      <th>img_filename</th>\n",
              "      <th>img_path</th>\n",
              "      <th>img_id</th>\n",
              "      <th>img_width</th>\n",
              "      <th>img_height</th>\n",
              "      <th>img_depth</th>\n",
              "      <th>ann_segmented</th>\n",
              "      <th>ann_bbox_xmin</th>\n",
              "      <th>...</th>\n",
              "      <th>ann_area</th>\n",
              "      <th>ann_segmentation</th>\n",
              "      <th>ann_iscrowd</th>\n",
              "      <th>ann_pose</th>\n",
              "      <th>ann_truncated</th>\n",
              "      <th>ann_difficult</th>\n",
              "      <th>cat_id</th>\n",
              "      <th>cat_name</th>\n",
              "      <th>cat_supercategory</th>\n",
              "      <th>split</th>\n",
              "    </tr>\n",
              "  </thead>\n",
              "  <tbody>\n",
              "    <tr>\n",
              "      <th>0</th>\n",
              "      <td></td>\n",
              "      <td></td>\n",
              "      <td>000000397133.jpg</td>\n",
              "      <td></td>\n",
              "      <td>397133</td>\n",
              "      <td>640</td>\n",
              "      <td>427</td>\n",
              "      <td></td>\n",
              "      <td></td>\n",
              "      <td>217.62</td>\n",
              "      <td>...</td>\n",
              "      <td>1481.38065</td>\n",
              "      <td>[[224.24, 297.18, 228.29, 297.18, 234.91, 298....</td>\n",
              "      <td>0.0</td>\n",
              "      <td></td>\n",
              "      <td></td>\n",
              "      <td></td>\n",
              "      <td>44.0</td>\n",
              "      <td>bottle</td>\n",
              "      <td>kitchen</td>\n",
              "      <td></td>\n",
              "    </tr>\n",
              "    <tr>\n",
              "      <th>1</th>\n",
              "      <td></td>\n",
              "      <td></td>\n",
              "      <td>000000397133.jpg</td>\n",
              "      <td></td>\n",
              "      <td>397133</td>\n",
              "      <td>640</td>\n",
              "      <td>427</td>\n",
              "      <td></td>\n",
              "      <td></td>\n",
              "      <td>1.00</td>\n",
              "      <td>...</td>\n",
              "      <td>54085.62170</td>\n",
              "      <td>[[292.37, 425.1, 340.6, 373.86, 347.63, 256.31...</td>\n",
              "      <td>0.0</td>\n",
              "      <td></td>\n",
              "      <td></td>\n",
              "      <td></td>\n",
              "      <td>67.0</td>\n",
              "      <td>dining table</td>\n",
              "      <td>furniture</td>\n",
              "      <td></td>\n",
              "    </tr>\n",
              "    <tr>\n",
              "      <th>2</th>\n",
              "      <td></td>\n",
              "      <td></td>\n",
              "      <td>000000397133.jpg</td>\n",
              "      <td></td>\n",
              "      <td>397133</td>\n",
              "      <td>640</td>\n",
              "      <td>427</td>\n",
              "      <td></td>\n",
              "      <td></td>\n",
              "      <td>388.66</td>\n",
              "      <td>...</td>\n",
              "      <td>17376.91885</td>\n",
              "      <td>[[446.71, 70.66, 466.07, 72.89, 471.28, 78.85,...</td>\n",
              "      <td>0.0</td>\n",
              "      <td></td>\n",
              "      <td></td>\n",
              "      <td></td>\n",
              "      <td>1.0</td>\n",
              "      <td>person</td>\n",
              "      <td>person</td>\n",
              "      <td></td>\n",
              "    </tr>\n",
              "    <tr>\n",
              "      <th>3</th>\n",
              "      <td></td>\n",
              "      <td></td>\n",
              "      <td>000000397133.jpg</td>\n",
              "      <td></td>\n",
              "      <td>397133</td>\n",
              "      <td>640</td>\n",
              "      <td>427</td>\n",
              "      <td></td>\n",
              "      <td></td>\n",
              "      <td>135.57</td>\n",
              "      <td>...</td>\n",
              "      <td>123.19340</td>\n",
              "      <td>[[136.18, 253.44, 153.89, 277.3, 157.89, 278.2...</td>\n",
              "      <td>0.0</td>\n",
              "      <td></td>\n",
              "      <td></td>\n",
              "      <td></td>\n",
              "      <td>49.0</td>\n",
              "      <td>knife</td>\n",
              "      <td>kitchen</td>\n",
              "      <td></td>\n",
              "    </tr>\n",
              "    <tr>\n",
              "      <th>4</th>\n",
              "      <td></td>\n",
              "      <td></td>\n",
              "      <td>000000397133.jpg</td>\n",
              "      <td></td>\n",
              "      <td>397133</td>\n",
              "      <td>640</td>\n",
              "      <td>427</td>\n",
              "      <td></td>\n",
              "      <td></td>\n",
              "      <td>31.28</td>\n",
              "      <td>...</td>\n",
              "      <td>2136.46615</td>\n",
              "      <td>[[37.61, 381.77, 31.28, 360.25, 40.15, 352.65,...</td>\n",
              "      <td>0.0</td>\n",
              "      <td></td>\n",
              "      <td></td>\n",
              "      <td></td>\n",
              "      <td>51.0</td>\n",
              "      <td>bowl</td>\n",
              "      <td>kitchen</td>\n",
              "      <td></td>\n",
              "    </tr>\n",
              "  </tbody>\n",
              "</table>\n",
              "<p>5 rows × 25 columns</p>\n",
              "</div>"
            ],
            "text/plain": [
              "  id img_folder      img_filename img_path  img_id  img_width  img_height  \\\n",
              "0                000000397133.jpg           397133        640         427   \n",
              "1                000000397133.jpg           397133        640         427   \n",
              "2                000000397133.jpg           397133        640         427   \n",
              "3                000000397133.jpg           397133        640         427   \n",
              "4                000000397133.jpg           397133        640         427   \n",
              "\n",
              "  img_depth ann_segmented  ann_bbox_xmin  ...     ann_area  \\\n",
              "0                                 217.62  ...   1481.38065   \n",
              "1                                   1.00  ...  54085.62170   \n",
              "2                                 388.66  ...  17376.91885   \n",
              "3                                 135.57  ...    123.19340   \n",
              "4                                  31.28  ...   2136.46615   \n",
              "\n",
              "                                    ann_segmentation  ann_iscrowd  ann_pose  \\\n",
              "0  [[224.24, 297.18, 228.29, 297.18, 234.91, 298....          0.0             \n",
              "1  [[292.37, 425.1, 340.6, 373.86, 347.63, 256.31...          0.0             \n",
              "2  [[446.71, 70.66, 466.07, 72.89, 471.28, 78.85,...          0.0             \n",
              "3  [[136.18, 253.44, 153.89, 277.3, 157.89, 278.2...          0.0             \n",
              "4  [[37.61, 381.77, 31.28, 360.25, 40.15, 352.65,...          0.0             \n",
              "\n",
              "   ann_truncated  ann_difficult cat_id      cat_name cat_supercategory split  \n",
              "0                                 44.0        bottle           kitchen        \n",
              "1                                 67.0  dining table         furniture        \n",
              "2                                  1.0        person            person        \n",
              "3                                 49.0         knife           kitchen        \n",
              "4                                 51.0          bowl           kitchen        \n",
              "\n",
              "[5 rows x 25 columns]"
            ]
          },
          "metadata": {},
          "execution_count": 9
        }
      ],
      "metadata": {
        "colab": {
          "base_uri": "https://localhost:8080/",
          "height": 779
        },
        "id": "WkeMFfMv2Gda",
        "outputId": "00b621f8-e88a-4290-cbfa-0d4759e3f9c3"
      }
    },
    {
      "cell_type": "code",
      "execution_count": 10,
      "source": [
        "#class_counts = coco_df[\"cat_name\"].value_counts()\n",
        "#num_classes = coco_df[\"cat_name\"].nunique()\n",
        "#num_images = coco_df[\"img_filename\"].nunique()\n",
        "#class_counts[0:10].plot(kind='bar', title=\"Top classes\")\n",
        "\n",
        "print(analyzers.Analyzer(coco_df).class_counts)\n",
        "\n"
      ],
      "outputs": [
        {
          "output_type": "stream",
          "name": "stdout",
          "text": [
            "person        11004\n",
            "car            1932\n",
            "chair          1791\n",
            "book           1161\n",
            "bottle         1025\n",
            "              ...  \n",
            "toothbrush       57\n",
            "microwave        55\n",
            "scissors         36\n",
            "hair drier       11\n",
            "toaster           9\n",
            "Name: cat_name, Length: 80, dtype: int64\n"
          ]
        }
      ],
      "metadata": {}
    },
    {
      "cell_type": "markdown",
      "source": [
        "## Import Annotations from VOC format \n",
        "In the VOC format the annotations are stored as seperate XML files, one per images"
      ],
      "metadata": {}
    },
    {
      "cell_type": "code",
      "execution_count": 2,
      "source": [
        "# Download sample dataset \n",
        "#!git clone https://github.com/Shenggan/BCCD_Dataset \n",
        "directory = 'BCCD_Dataset/BCCD/Annotations/'\n"
      ],
      "outputs": [],
      "metadata": {
        "colab": {
          "base_uri": "https://localhost:8080/"
        },
        "id": "Fq3anDkc8MCH",
        "outputId": "bb3ef3d8-023a-4eb1-8ee7-865f388bf46d"
      }
    },
    {
      "cell_type": "code",
      "execution_count": 3,
      "source": [
        "df = importers.ImportVOC(directory)"
      ],
      "outputs": [
        {
          "output_type": "stream",
          "name": "stdout",
          "text": [
            "BCCD_Dataset/BCCD/Annotations/\n"
          ]
        },
        {
          "output_type": "error",
          "ename": "NameError",
          "evalue": "name 'schema' is not defined",
          "traceback": [
            "\u001b[0;31m---------------------------------------------------------------------------\u001b[0m",
            "\u001b[0;31mNameError\u001b[0m                                 Traceback (most recent call last)",
            "\u001b[0;32m/var/folders/kb/g4l35z0x275cj142s2_94sdm0000gn/T/ipykernel_31603/3518149460.py\u001b[0m in \u001b[0;36m<module>\u001b[0;34m\u001b[0m\n\u001b[0;32m----> 1\u001b[0;31m \u001b[0mdf\u001b[0m \u001b[0;34m=\u001b[0m \u001b[0mimporters\u001b[0m\u001b[0;34m.\u001b[0m\u001b[0mImportVOC\u001b[0m\u001b[0;34m(\u001b[0m\u001b[0mdirectory\u001b[0m\u001b[0;34m)\u001b[0m\u001b[0;34m\u001b[0m\u001b[0;34m\u001b[0m\u001b[0m\n\u001b[0m",
            "\u001b[0;32m~/Google Drive/pylabel/package/pylabelalpha/importers.py\u001b[0m in \u001b[0;36mImportVOC\u001b[0;34m(path)\u001b[0m\n\u001b[1;32m     51\u001b[0m     \u001b[0mprint\u001b[0m\u001b[0;34m(\u001b[0m\u001b[0mpath\u001b[0m\u001b[0;34m)\u001b[0m\u001b[0;34m\u001b[0m\u001b[0;34m\u001b[0m\u001b[0m\n\u001b[1;32m     52\u001b[0m     \u001b[0;31m#Create an empty dataframe\u001b[0m\u001b[0;34m\u001b[0m\u001b[0;34m\u001b[0m\u001b[0;34m\u001b[0m\u001b[0m\n\u001b[0;32m---> 53\u001b[0;31m     \u001b[0mdf\u001b[0m \u001b[0;34m=\u001b[0m \u001b[0mpd\u001b[0m\u001b[0;34m.\u001b[0m\u001b[0mDataFrame\u001b[0m\u001b[0;34m(\u001b[0m\u001b[0mcolumns\u001b[0m\u001b[0;34m=\u001b[0m\u001b[0mschema\u001b[0m\u001b[0;34m)\u001b[0m\u001b[0;34m\u001b[0m\u001b[0;34m\u001b[0m\u001b[0m\n\u001b[0m\u001b[1;32m     54\u001b[0m \u001b[0;34m\u001b[0m\u001b[0m\n\u001b[1;32m     55\u001b[0m     \u001b[0mrow_id\u001b[0m \u001b[0;34m=\u001b[0m \u001b[0;36m0\u001b[0m\u001b[0;34m\u001b[0m\u001b[0;34m\u001b[0m\u001b[0m\n",
            "\u001b[0;31mNameError\u001b[0m: name 'schema' is not defined"
          ]
        }
      ],
      "metadata": {}
    },
    {
      "cell_type": "markdown",
      "source": [],
      "metadata": {}
    },
    {
      "cell_type": "markdown",
      "source": [],
      "metadata": {}
    },
    {
      "cell_type": "markdown",
      "source": [],
      "metadata": {}
    }
  ]
}