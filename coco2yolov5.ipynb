{
  "cells": [
    {
      "cell_type": "markdown",
      "metadata": {
        "id": "Cxi8K9mXwl5t"
      },
      "source": [
        "# Pylabel End to End Example \n",
        "## Coco JSON to VOC XML\n",
        "Use this notebook to try out importing, analyzing, and exporting datasets of image annotations. "
      ]
    },
    {
      "cell_type": "code",
      "execution_count": 1,
      "metadata": {},
      "outputs": [],
      "source": [
        "#!pip install -i https://test.pypi.org/simple/ pylabelalphatest==0.1.1 \n"
      ]
    },
    {
      "cell_type": "code",
      "execution_count": 2,
      "metadata": {
        "id": "AYwWkeF4z1Sc"
      },
      "outputs": [],
      "source": [
        "from pylabelalpha import importer"
      ]
    },
    {
      "cell_type": "markdown",
      "metadata": {},
      "source": [
        "## Import coco annotations \n",
        "First we will import annotations from the coco dataset, which are in coco json format. "
      ]
    },
    {
      "cell_type": "code",
      "execution_count": 3,
      "metadata": {},
      "outputs": [
        {
          "name": "stdout",
          "output_type": "stream",
          "text": [
            "  % Total    % Received % Xferd  Average Speed   Time    Time     Time  Current\n",
            "                                 Dload  Upload   Total   Spent    Left  Speed\n",
            "100 19.0M  100 19.0M    0     0  26.5M      0 --:--:-- --:--:-- --:--:-- 26.5M\n"
          ]
        },
        {
          "data": {
            "text/html": [
              "<div>\n",
              "<style scoped>\n",
              "    .dataframe tbody tr th:only-of-type {\n",
              "        vertical-align: middle;\n",
              "    }\n",
              "\n",
              "    .dataframe tbody tr th {\n",
              "        vertical-align: top;\n",
              "    }\n",
              "\n",
              "    .dataframe thead th {\n",
              "        text-align: right;\n",
              "    }\n",
              "</style>\n",
              "<table border=\"1\" class=\"dataframe\">\n",
              "  <thead>\n",
              "    <tr style=\"text-align: right;\">\n",
              "      <th></th>\n",
              "      <th>id</th>\n",
              "      <th>img_folder</th>\n",
              "      <th>img_filename</th>\n",
              "      <th>img_path</th>\n",
              "      <th>img_id</th>\n",
              "      <th>img_width</th>\n",
              "      <th>img_height</th>\n",
              "      <th>img_depth</th>\n",
              "      <th>ann_segmented</th>\n",
              "      <th>ann_bbox_xmin</th>\n",
              "      <th>...</th>\n",
              "      <th>ann_area</th>\n",
              "      <th>ann_segmentation</th>\n",
              "      <th>ann_iscrowd</th>\n",
              "      <th>ann_pose</th>\n",
              "      <th>ann_truncated</th>\n",
              "      <th>ann_difficult</th>\n",
              "      <th>cat_id</th>\n",
              "      <th>cat_name</th>\n",
              "      <th>cat_supercategory</th>\n",
              "      <th>split</th>\n",
              "    </tr>\n",
              "  </thead>\n",
              "  <tbody>\n",
              "    <tr>\n",
              "      <th>0</th>\n",
              "      <td></td>\n",
              "      <td></td>\n",
              "      <td>000000397133.jpg</td>\n",
              "      <td></td>\n",
              "      <td>397133</td>\n",
              "      <td>640</td>\n",
              "      <td>427</td>\n",
              "      <td></td>\n",
              "      <td></td>\n",
              "      <td>217.62</td>\n",
              "      <td>...</td>\n",
              "      <td>1481.38065</td>\n",
              "      <td>[[224.24, 297.18, 228.29, 297.18, 234.91, 298....</td>\n",
              "      <td>0.0</td>\n",
              "      <td></td>\n",
              "      <td></td>\n",
              "      <td></td>\n",
              "      <td>44.0</td>\n",
              "      <td>bottle</td>\n",
              "      <td>kitchen</td>\n",
              "      <td></td>\n",
              "    </tr>\n",
              "    <tr>\n",
              "      <th>1</th>\n",
              "      <td></td>\n",
              "      <td></td>\n",
              "      <td>000000397133.jpg</td>\n",
              "      <td></td>\n",
              "      <td>397133</td>\n",
              "      <td>640</td>\n",
              "      <td>427</td>\n",
              "      <td></td>\n",
              "      <td></td>\n",
              "      <td>1.00</td>\n",
              "      <td>...</td>\n",
              "      <td>54085.62170</td>\n",
              "      <td>[[292.37, 425.1, 340.6, 373.86, 347.63, 256.31...</td>\n",
              "      <td>0.0</td>\n",
              "      <td></td>\n",
              "      <td></td>\n",
              "      <td></td>\n",
              "      <td>67.0</td>\n",
              "      <td>dining table</td>\n",
              "      <td>furniture</td>\n",
              "      <td></td>\n",
              "    </tr>\n",
              "    <tr>\n",
              "      <th>2</th>\n",
              "      <td></td>\n",
              "      <td></td>\n",
              "      <td>000000397133.jpg</td>\n",
              "      <td></td>\n",
              "      <td>397133</td>\n",
              "      <td>640</td>\n",
              "      <td>427</td>\n",
              "      <td></td>\n",
              "      <td></td>\n",
              "      <td>388.66</td>\n",
              "      <td>...</td>\n",
              "      <td>17376.91885</td>\n",
              "      <td>[[446.71, 70.66, 466.07, 72.89, 471.28, 78.85,...</td>\n",
              "      <td>0.0</td>\n",
              "      <td></td>\n",
              "      <td></td>\n",
              "      <td></td>\n",
              "      <td>1.0</td>\n",
              "      <td>person</td>\n",
              "      <td>person</td>\n",
              "      <td></td>\n",
              "    </tr>\n",
              "    <tr>\n",
              "      <th>3</th>\n",
              "      <td></td>\n",
              "      <td></td>\n",
              "      <td>000000397133.jpg</td>\n",
              "      <td></td>\n",
              "      <td>397133</td>\n",
              "      <td>640</td>\n",
              "      <td>427</td>\n",
              "      <td></td>\n",
              "      <td></td>\n",
              "      <td>135.57</td>\n",
              "      <td>...</td>\n",
              "      <td>123.19340</td>\n",
              "      <td>[[136.18, 253.44, 153.89, 277.3, 157.89, 278.2...</td>\n",
              "      <td>0.0</td>\n",
              "      <td></td>\n",
              "      <td></td>\n",
              "      <td></td>\n",
              "      <td>49.0</td>\n",
              "      <td>knife</td>\n",
              "      <td>kitchen</td>\n",
              "      <td></td>\n",
              "    </tr>\n",
              "    <tr>\n",
              "      <th>4</th>\n",
              "      <td></td>\n",
              "      <td></td>\n",
              "      <td>000000397133.jpg</td>\n",
              "      <td></td>\n",
              "      <td>397133</td>\n",
              "      <td>640</td>\n",
              "      <td>427</td>\n",
              "      <td></td>\n",
              "      <td></td>\n",
              "      <td>31.28</td>\n",
              "      <td>...</td>\n",
              "      <td>2136.46615</td>\n",
              "      <td>[[37.61, 381.77, 31.28, 360.25, 40.15, 352.65,...</td>\n",
              "      <td>0.0</td>\n",
              "      <td></td>\n",
              "      <td></td>\n",
              "      <td></td>\n",
              "      <td>51.0</td>\n",
              "      <td>bowl</td>\n",
              "      <td>kitchen</td>\n",
              "      <td></td>\n",
              "    </tr>\n",
              "  </tbody>\n",
              "</table>\n",
              "<p>5 rows × 25 columns</p>\n",
              "</div>"
            ],
            "text/plain": [
              "  id img_folder      img_filename img_path  img_id  img_width  img_height  \\\n",
              "0                000000397133.jpg           397133        640         427   \n",
              "1                000000397133.jpg           397133        640         427   \n",
              "2                000000397133.jpg           397133        640         427   \n",
              "3                000000397133.jpg           397133        640         427   \n",
              "4                000000397133.jpg           397133        640         427   \n",
              "\n",
              "  img_depth ann_segmented  ann_bbox_xmin  ...     ann_area  \\\n",
              "0                                 217.62  ...   1481.38065   \n",
              "1                                   1.00  ...  54085.62170   \n",
              "2                                 388.66  ...  17376.91885   \n",
              "3                                 135.57  ...    123.19340   \n",
              "4                                  31.28  ...   2136.46615   \n",
              "\n",
              "                                    ann_segmentation  ann_iscrowd  ann_pose  \\\n",
              "0  [[224.24, 297.18, 228.29, 297.18, 234.91, 298....          0.0             \n",
              "1  [[292.37, 425.1, 340.6, 373.86, 347.63, 256.31...          0.0             \n",
              "2  [[446.71, 70.66, 466.07, 72.89, 471.28, 78.85,...          0.0             \n",
              "3  [[136.18, 253.44, 153.89, 277.3, 157.89, 278.2...          0.0             \n",
              "4  [[37.61, 381.77, 31.28, 360.25, 40.15, 352.65,...          0.0             \n",
              "\n",
              "   ann_truncated  ann_difficult cat_id      cat_name cat_supercategory split  \n",
              "0                                 44.0        bottle           kitchen        \n",
              "1                                 67.0  dining table         furniture        \n",
              "2                                  1.0        person            person        \n",
              "3                                 49.0         knife           kitchen        \n",
              "4                                 51.0          bowl           kitchen        \n",
              "\n",
              "[5 rows x 25 columns]"
            ]
          },
          "execution_count": 3,
          "metadata": {},
          "output_type": "execute_result"
        }
      ],
      "source": [
        "#Download the annotation file \n",
        "#!mkdir data/\n",
        "import os \n",
        "\n",
        "os.makedirs(\"data\", exist_ok=True)\n",
        "!curl https://raw.githubusercontent.com/pylabelalpha/notebook/main/coco_instances_val2017.json --output data/coco_instances_val2017.json\n",
        "coco_annnotations = \"data/coco_instances_val2017.json\"\n",
        "\n",
        "#Import the dataset into the pylable schema \n",
        "dataset = importer.ImportCoco(coco_annnotations)\n",
        "dataset.df.head(5)\n"
      ]
    },
    {
      "cell_type": "markdown",
      "metadata": {},
      "source": [
        "## Analyze annotations\n",
        "Pylabel can calculate basic summary statisticts about the dataset such as the number of files and the classes. \n",
        "The dataset is stored as a pandas frame so the developer can do additional exploratory analysis on the dataset. "
      ]
    },
    {
      "cell_type": "code",
      "execution_count": 4,
      "metadata": {
        "colab": {
          "base_uri": "https://localhost:8080/"
        },
        "id": "5R1rOJVL420b",
        "outputId": "ae94525b-c6d5-4a4f-d56d-7f1bd29a7411"
      },
      "outputs": [
        {
          "name": "stdout",
          "output_type": "stream",
          "text": [
            "Number of images: 5000\n",
            "Number of classes: 80\n",
            "Classes:['bottle' 'dining table' 'person' 'knife' 'bowl' 'oven' 'cup' 'broccoli'\n",
            " 'spoon' 'carrot' 'sink' 'potted plant' 'chair' 'refrigerator' 'banana'\n",
            " 'orange' 'umbrella' 'handbag' 'traffic light' 'bicycle' 'skateboard'\n",
            " 'car' 'truck' 'toilet' 'motorcycle' 'bird' 'keyboard' 'book' 'tv' 'vase'\n",
            " 'couch' 'airplane' 'suitcase' 'giraffe' 'cow' 'boat' 'bench' 'sheep'\n",
            " 'bus' 'backpack' nan 'train' 'stop sign' 'dog' 'cat' 'laptop' 'tie'\n",
            " 'elephant' 'clock' 'frisbee' 'bear' 'zebra' 'horse' 'skis' 'sports ball'\n",
            " 'baseball glove' 'donut' 'sandwich' 'cake' 'surfboard' 'bed' 'pizza'\n",
            " 'tennis racket' 'toothbrush' 'remote' 'apple' 'snowboard' 'kite'\n",
            " 'baseball bat' 'fire hydrant' 'mouse' 'teddy bear' 'cell phone'\n",
            " 'scissors' 'wine glass' 'fork' 'microwave' 'hot dog' 'parking meter'\n",
            " 'toaster' 'hair drier']\n",
            "Class counts:\n",
            "person        11004\n",
            "car            1932\n",
            "chair          1791\n",
            "book           1161\n",
            "bottle         1025\n",
            "              ...  \n",
            "microwave        55\n",
            "NaN              48\n",
            "scissors         36\n",
            "hair drier       11\n",
            "toaster           9\n",
            "Name: cat_name, Length: 81, dtype: int64\n",
            "Path to annotations:\n",
            "data\n"
          ]
        }
      ],
      "source": [
        "print(f\"Number of images: {dataset.analyze.num_images}\")\n",
        "print(f\"Number of classes: {dataset.analyze.num_classes}\")\n",
        "print(f\"Classes:{dataset.analyze.classes}\")\n",
        "print(f\"Class counts:\\n{dataset.analyze.class_counts}\")\n",
        "print(f\"Path to annotations:\\n{dataset.path_to_annotations}\")\n",
        "\n"
      ]
    },
    {
      "cell_type": "markdown",
      "metadata": {},
      "source": [
        "# Export to VOC XML\n",
        "The PyLabel exporter will export all of the annotations in the dataframe to the desired target format.\n",
        "VOC creates one XML for each Jpeg in the dataset. "
      ]
    },
    {
      "cell_type": "code",
      "execution_count": 5,
      "metadata": {},
      "outputs": [
        {
          "name": "stdout",
          "output_type": "stream",
          "text": [
            "data\n"
          ]
        }
      ],
      "source": [
        "\n",
        "dataset.export.ExportToYoloV5(dataset)\n"
      ]
    },
    {
      "cell_type": "code",
      "execution_count": 6,
      "metadata": {},
      "outputs": [],
      "source": [
        "# Inspect one of the files\n",
        "\n",
        "\n",
        "\n"
      ]
    }
  ],
  "metadata": {
    "colab": {
      "collapsed_sections": [],
      "name": "import2.ipynb",
      "provenance": []
    },
    "interpreter": {
      "hash": "ce87664f517f0f493257e3da59ea17f80c6462c04b9bf81bec5c6547a8db1b62"
    },
    "kernelspec": {
      "display_name": "Python 3.8.5 64-bit ('penv': venv)",
      "name": "python3"
    },
    "language_info": {
      "codemirror_mode": {
        "name": "ipython",
        "version": 3
      },
      "file_extension": ".py",
      "mimetype": "text/x-python",
      "name": "python",
      "nbconvert_exporter": "python",
      "pygments_lexer": "ipython3",
      "version": "3.8.5"
    }
  },
  "nbformat": 4,
  "nbformat_minor": 2
}
